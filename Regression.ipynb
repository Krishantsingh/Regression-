{
  "nbformat": 4,
  "nbformat_minor": 0,
  "metadata": {
    "colab": {
      "provenance": [],
      "authorship_tag": "ABX9TyMxiQx3zqF3ueM5a/oihjA6",
      "include_colab_link": true
    },
    "kernelspec": {
      "name": "python3",
      "display_name": "Python 3"
    },
    "language_info": {
      "name": "python"
    }
  },
  "cells": [
    {
      "cell_type": "markdown",
      "metadata": {
        "id": "view-in-github",
        "colab_type": "text"
      },
      "source": [
        "<a href=\"https://colab.research.google.com/github/Krishantsingh/Regression-/blob/main/Regression.ipynb\" target=\"_parent\"><img src=\"https://colab.research.google.com/assets/colab-badge.svg\" alt=\"Open In Colab\"/></a>"
      ]
    },
    {
      "cell_type": "markdown",
      "source": [
        "1. What is Simple Linear Regression ??\n",
        "\n",
        "   = Simple Linear Regression is a statistical method used to model the relationship between two variables by fitting a straight line to the data."
      ],
      "metadata": {
        "id": "WR1UbM7ZCOgg"
      }
    },
    {
      "cell_type": "markdown",
      "source": [
        "2. What are the key assumptions of Simple Linear Regression ??\n",
        "\n",
        "   = The key assumptions of Simple Linear Regression are as follow,\n",
        "\n",
        "     1. Linearity\n",
        "\n",
        "     2. Independence\n",
        "\n",
        "     3. Homoscedasticity\n",
        "\n",
        "     4. Normality of Residuals\n",
        "\n",
        "     5. No Multicollinearity etc."
      ],
      "metadata": {
        "id": "V-oP8L9gCmwN"
      }
    },
    {
      "cell_type": "markdown",
      "source": [
        "3. What does the coefficient m represent in the equation Y=mX+c ??\n",
        "\n",
        "   = The cofficient M represent the rate of change of Y with respect to X. It shows how much Y increases or decreases when X change by 1 Unit.\n"
      ],
      "metadata": {
        "id": "acL5Ei4JC_aA"
      }
    },
    {
      "cell_type": "markdown",
      "source": [
        "4.  What does the intercept c represent in the equation Y=mX+c ??\n",
        "\n",
        "   = The intercept c represents the value of Y when  X=0.It is the point where the line crosses the Y-axis."
      ],
      "metadata": {
        "id": "SVYISdFeEJxY"
      }
    },
    {
      "cell_type": "markdown",
      "source": [
        "5. How do we calculate the slope m in Simple Linear Regression ??\n",
        "\n",
        "  = We calculate the slope M in simple linear regression by using the following formula,\n",
        "\n",
        "        M = m = Σ((xi – x̄)(yi – ȳ)) / Σ((xi – x̄)²)\n",
        "\n"
      ],
      "metadata": {
        "id": "gpEe7J83ElAE"
      }
    },
    {
      "cell_type": "markdown",
      "source": [
        "6. What is the purpose of the least squares method in Simple Linear Regression ??\n",
        "\n",
        "  = The Least Squares Method in Simple Linear Regression is used to find the best-fitting line by minimizing the sum of squared errors."
      ],
      "metadata": {
        "id": "3TxMqLsgG4dS"
      }
    },
    {
      "cell_type": "markdown",
      "source": [
        "7. How is the coefficient of determination (R²) interpreted in Simple Linear Regression ??\n",
        "\n",
        "   =  The coefficient of determination R2 in Simple Linear Regression measures how well the independent variable (X) explains the variability in the dependent variable (Y)."
      ],
      "metadata": {
        "id": "bFa_SDqCHJbz"
      }
    },
    {
      "cell_type": "markdown",
      "source": [
        "8. What is Multiple Linear Regression ??\n",
        "\n",
        "   = Multiple Linear Regression is an extension of Simple Linear Regression that models the relationship between a dependent variable (Y) and two or more independent variables."
      ],
      "metadata": {
        "id": "XHp9mlF_HtHN"
      }
    },
    {
      "cell_type": "markdown",
      "source": [
        "9. What is the main difference between Simple and Multiple Linear Regression ??\n",
        "\n",
        "   = The main difference between Simple Linear Regression and Multiple Linear Regression is the number of independent variables used to predict the dependent variabl."
      ],
      "metadata": {
        "id": "qrLr7gNnH7hx"
      }
    },
    {
      "cell_type": "markdown",
      "source": [
        "10. What are the key assumptions of Multiple Linear Regression ??\n",
        "\n",
        "   = The key assumptions of Multiple Linear Regression are as follow,\n",
        "\n",
        "      1. Linearity\n",
        "\n",
        "      2. Independence of Errors\n",
        "\n",
        "      3. Homoscedasticity\n",
        "\n",
        "      4. Normality of Errors\n",
        "\n",
        "      5. No Multicollinearity etc."
      ],
      "metadata": {
        "id": "OXkxZrKDIIdL"
      }
    },
    {
      "cell_type": "markdown",
      "source": [
        "11. What is heteroscedasticity, and how does it affect the results of a Multiple Linear Regression model ??\n",
        "\n",
        "   = Heteroscedasticity refers to the situation in Multiple Linear Regression  where the variance of the residuals is not constant across all levels of the independent variables.\n",
        "\n",
        "   The effects of heteroscedasticity are as follow,\n",
        "\n",
        "     1. Inefficient Estimates\n",
        "\n",
        "     2. Invalid Inferences\n",
        "\n",
        "     3. Unreliable Prediction Intervals\n",
        "\n",
        "     4. Violation of Assumptions etc."
      ],
      "metadata": {
        "id": "WegUmX0eIhRI"
      }
    },
    {
      "cell_type": "markdown",
      "source": [
        "12. How can you improve a Multiple Linear Regression model with high multicollinearity ??\n",
        "\n",
        "\n",
        "  = To improve a Multiple Linear Regression model with high multicollinearity, We can take several approaches, some of them are as follow,\n",
        "\n",
        "     1. Remove Highly Correlated Variables\n",
        "\n",
        "     2. Combine Correlated Variables\n",
        "\n",
        "     3. Use Principal Component Analysis\n",
        "\n",
        "     4. Apply Ridge or Lasso Regression etc."
      ],
      "metadata": {
        "id": "s2_afwHQJE3o"
      }
    },
    {
      "cell_type": "markdown",
      "source": [
        "13. What are some common techniques for transforming categorical variables for use in regression models ??\n",
        "\n",
        "   = Some common techniques for transforming categorical variables for use in regression models are as follow,\n",
        "\n",
        "     1. One-Hot Encoding\n",
        "\n",
        "     2. Label Encoding\n",
        "\n",
        "     3. Ordinal Encoding\n",
        "\n",
        "     4. Binary Encoding etc."
      ],
      "metadata": {
        "id": "gvDVxfSEJnDw"
      }
    },
    {
      "cell_type": "markdown",
      "source": [
        "14. What is the role of interaction terms in Multiple Linear Regression ??\n",
        "\n",
        "   = The role of interaction terms in Multiple Linear Regression are as follow,\n",
        "\n",
        "      1. Capturing Non-Additive Effects\n",
        "\n",
        "      2. Improved Model Fit\n",
        "\n",
        "      3. Contextual Interpretation etc."
      ],
      "metadata": {
        "id": "6V3P65RjKe54"
      }
    },
    {
      "cell_type": "markdown",
      "source": [
        "15. How can the interpretation of intercept differ between Simple and Multiple Linear Regression ??\n",
        "\n",
        "   = In Simple Linear Regression, the intercept (b0) represents the predicted value of Y when the single predictor X is 0. It's straightforward: if Y = 10 + 5X, then X = 0 and Y = 10.\n",
        "\n",
        "     In Multiple Linear Regression, the intercept (b0)  represents the predicted value of Y when all predictorsare 0. For example, if Y = 10 + 5X1 + 6X2, then when both X1 = 0, X2 = 0 and Y = 10."
      ],
      "metadata": {
        "id": "Xg8sICz4LGW_"
      }
    },
    {
      "cell_type": "markdown",
      "source": [
        "16. What is the significance of the slope in regression analysis, and how does it affect predictions ??\n",
        "\n",
        "  = The slope in regression analysis shows how much the dependent variable (Y)  changes for a one-unit increase in the independent variable (X).\n",
        "\n",
        "    Positive slope : When X increases Y also increaees\n",
        "\n",
        "    Negative Slope : when x increases Y decreases\n",
        "\n",
        "    The slope affects predictions by determining how much Y will change for different values of X. A steeper slope means a stronger relationship between X and Y A steeper slope means a stronger relationship between Y."
      ],
      "metadata": {
        "id": "zbHHQsWyNBB8"
      }
    },
    {
      "cell_type": "markdown",
      "source": [
        "17.  How does the intercept in a regression model provide context for the relationship between variables ??\n",
        "\n",
        "  = The context provided for the relationshiop between variables are as follow,\n",
        "\n",
        "    1. Starting Point or Baseline\n",
        "\n",
        "    2. Contextual Meaning\n",
        "\n",
        "    3. Foundation for Predictions etc."
      ],
      "metadata": {
        "id": "i37PjLozN5qs"
      }
    },
    {
      "cell_type": "markdown",
      "source": [
        "18. What are the limitations of using R² as a sole measure of model performance ??\n",
        "\n",
        "  = The limitations of using R2 as a sile measure od model performance are as follow,\n",
        "\n",
        "    1. Does Not Measure Model Accuracy\n",
        "\n",
        "    2. Can Be Misleading with Complex Models\n",
        "\n",
        "    3. Does Not Capture Model Quality\n",
        "\n",
        "    4. No Penalty for Overfitting\n",
        "\n",
        "    5. Not Suitable for Nonlinear Relationships etc ."
      ],
      "metadata": {
        "id": "wOTtAcgQOStB"
      }
    },
    {
      "cell_type": "markdown",
      "source": [
        "19.  How would you interpret a large standard error for a regression coefficient ??\n",
        "\n",
        "   = The way i interpret aa large standard error for a regression coefficient are as follow,\n",
        "\n",
        "     1. Lack of Precision in the Estimate\n",
        "\n",
        "     2. Weak Relationship with Dependent Variable\n",
        "\n",
        "     3. Statistical Insignificance\n",
        "\n",
        "     4. Possible Multicollinearity etc."
      ],
      "metadata": {
        "id": "ndvacGcyO3eS"
      }
    },
    {
      "cell_type": "markdown",
      "source": [
        "20. How can heteroscedasticity be identified in residual plots, and why is it important to address it ??\n",
        "\n",
        "   = Heteroscedasticity can be identified in residual plots in following ways,\n",
        "\n",
        "      1. Transform the Data\n",
        "\n",
        "      2. Weighted Least Squares Regression\n",
        "\n",
        "      3. Robust Standard Errors etc.\n",
        "\n",
        "   It is important to address because of the following reasons,\n",
        "\n",
        "      1. Bias in Standard Errors\n",
        "      \n",
        "      2. Inefficient Estimates\n",
        "\n",
        "      3. Invalid Hypothesis Testing\n",
        "\n",
        "      4. Model Assumption Violation etc."
      ],
      "metadata": {
        "id": "cP_9mYsrPWgt"
      }
    },
    {
      "cell_type": "markdown",
      "source": [
        "21.  What does it mean if a Multiple Linear Regression model has a high R² but low adjusted R² ??\n",
        "\n",
        "   = If a Multiple Linear Regression model has a high R² but a low adjusted R², it means the model might be overfitting.\n",
        "\n",
        "High R² suggests the model explains a lot of the variation in the data, but it could be due to including too many predictors.\n",
        "\n",
        "Low adjusted R² indicates that, after accounting for the number of predictors, the model isn't actually that good. It penalizes adding unnecessary predictors that don’t improve the model much."
      ],
      "metadata": {
        "id": "ncNH276NQT5W"
      }
    },
    {
      "cell_type": "markdown",
      "source": [
        "22. Why is it important to scale variables in Multiple Linear Regression ??\n",
        "\n",
        "   = The importance of scaling  vraiables in Multiple Linear Regression are as follow,\n",
        "\n",
        "     1. Equal Weighting of Variables\n",
        "\n",
        "     2. Improve Interpretation of Coefficients\n",
        "\n",
        "     3. Handling Multicollinearity\n",
        "\n",
        "     4. Convergence in Optimization Algorithms etc.\n",
        "     "
      ],
      "metadata": {
        "id": "A2DSMv_TQ883"
      }
    },
    {
      "cell_type": "markdown",
      "source": [
        "23. What is polynomial regression ??\n",
        "\n",
        "   = Polynomial regression is a type of regression model that extends linear regression by fitting a polynomial relationship between the independent and dependent variables."
      ],
      "metadata": {
        "id": "cMcKv0KFS5hh"
      }
    },
    {
      "cell_type": "markdown",
      "source": [
        "24.  How does polynomial regression differ from linear regression ??\n",
        "\n",
        "   = Linear Regression:\n",
        "      \n",
        "       - Straight-line relationship: It assumes that the relationship between the independent variable (X) and the dependent variable (Y) is a straight line.\n",
        "\n",
        "       - Equation: Y = b0 + b1X\n",
        "\n",
        "       - Use: Works well when the data follows a straight-line trend.\n",
        "\n",
        "    Polynomial Regression:\n",
        "\n",
        "      - Curved relationship: It allows for a curved relationship between  X and Y using higher powers of X .\n",
        "\n",
        "      - Equation: Y = b0 + b1X + b2x^2 + b3X^3 + ....\n",
        "\n",
        "      - Use: Works better when the data has curves, like a U-shape or S-shape."
      ],
      "metadata": {
        "id": "zNN0hsSzTEia"
      }
    },
    {
      "cell_type": "markdown",
      "source": [
        "25. When is polynomial regression used ??\n",
        "\n",
        "   = polynomial regression is used in following situations,\n",
        "\n",
        "     1. Curved Data\n",
        "\n",
        "     2. When Linear Models Don't Fit\n",
        "\n",
        "     3. Complex Relationships\n",
        "\n",
        "     4. Better Fit for Data etc."
      ],
      "metadata": {
        "id": "4njClmv6VIko"
      }
    },
    {
      "cell_type": "markdown",
      "source": [
        "26. What is the general equation for polynomial regression ??\n",
        "\n",
        "   = The general equation for polynominal regressiuon is given below,\n",
        "\n",
        "         Y = bo + b1X + b2x^2 + b3x^3 +....bnx^n"
      ],
      "metadata": {
        "id": "4bX4eZofVh2T"
      }
    },
    {
      "cell_type": "markdown",
      "source": [
        "27.  Can polynomial regression be applied to multiple variables ??\n",
        "\n",
        "   = Yes, polynomial regression can be applied to multiple variables by including higher-order terms and interactions, making it useful for capturing complex relationships in multivariable datasets."
      ],
      "metadata": {
        "id": "N5rbALeZYnlY"
      }
    },
    {
      "cell_type": "markdown",
      "source": [
        "28. What are the limitations of polynomial regression ??\n",
        "\n",
        "   = Some limiytatioons of polynomial regressions are as follow ,\n",
        "\n",
        "      1. Overfitting\n",
        "\n",
        "      2. High Complexity\n",
        "\n",
        "      3. Sensitive to Outliers\n",
        "\n",
        "      4. Computational Cost etc ."
      ],
      "metadata": {
        "id": "Eari1UwGZBhr"
      }
    },
    {
      "cell_type": "markdown",
      "source": [
        "29. What methods can be used to evaluate model fit when selecting the degree of a polynomial ??\n",
        "\n",
        "   = Some methods to evaluate model fit when selecting the degree of a polynoial are as follow,\n",
        "\n",
        "      1. R-squared\n",
        "\n",
        "      2. Mean Squared Error\n",
        "\n",
        "      3. Cross-Validation\n",
        "\n",
        "      4. Train vs. Test Error  etc ."
      ],
      "metadata": {
        "id": "FjgUoJ22gvmK"
      }
    },
    {
      "cell_type": "markdown",
      "source": [
        "30. Why is visualization important in polynomial regression ??\n",
        "\n",
        "   = Visualization in Polynomial regression are as follow,\n",
        "\n",
        "      1. Understanding the Relationship Between Variables\n",
        "\n",
        "      2. Detecting Overfitting and Underfitting\n",
        "\n",
        "      3. Checking Model Predictions vs. Actual Data\n",
        "\n",
        "      4. Identifying Outliers and Data Issues etc."
      ],
      "metadata": {
        "id": "_4NhjkKJhb8T"
      }
    },
    {
      "cell_type": "markdown",
      "source": [
        "31. How is polynomial regression implemented in Python ??\n",
        "\n",
        "   = Polynomial regression implemented in Python in following way,\n",
        "\n",
        "     1. Import Required Libraries\n",
        "\n",
        "        - Like NumPy, matplotlib and scikit-learn\n",
        "\n",
        "     2. Prepare the Data\n",
        "        - A dataset with one or more independent variables (X) and a dependent variable (y) is required.\n",
        "        - If the relationship between X and y is non-linear, polynomial regression can be applied.\n",
        "\n",
        "     3.  Transform the Features into Polynomial Form\n",
        "\n",
        "     4. Train a Linear Regression Model on the Transformed Data\n",
        "\n",
        "     5. Make Predictions\n",
        "\n",
        "     6. Evaluate Model Performance\n",
        "\n",
        "     7. Visualize the Results etc."
      ],
      "metadata": {
        "id": "zmZZg3IXh30e"
      }
    },
    {
      "cell_type": "code",
      "source": [],
      "metadata": {
        "id": "9r_EeQ83CmAz"
      },
      "execution_count": null,
      "outputs": []
    }
  ]
}